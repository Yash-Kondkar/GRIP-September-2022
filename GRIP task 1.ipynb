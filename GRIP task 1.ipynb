{
 "cells": [
  {
   "cell_type": "markdown",
   "metadata": {
    "id": "ouMhSIrmww3n"
   },
   "source": [
    "# A02 Univariate Regression Model"
   ]
  },
  {
   "cell_type": "code",
   "execution_count": null,
   "metadata": {
    "id": "D-TcRfZkww3o"
   },
   "outputs": [],
   "source": [
    "#%matplotlib notebook\n",
    "import pandas as pd\n",
    "import matplotlib.pyplot as plt\n",
    "import matplotlib\n",
    "from mpl_toolkits.mplot3d import Axes3D\n",
    "from matplotlib import cm\n",
    "import numpy as np\n",
    "\n",
    "\n",
    "# Look pretty...\n",
    "\n",
    "# matplotlib.style.use('ggplot')\n",
    "plt.style.use('ggplot')"
   ]
  },
  {
   "cell_type": "markdown",
   "metadata": {
    "id": "Vs8rzIi8ww3t"
   },
   "source": [
    "## Read Data\n",
    "\n",
    "### Hint\n",
    "\n",
    "df=pd.read_csv(??, header=???, names=[???]) >> keep feature names as 'population' and 'profit'"
   ]
  },
  {
   "cell_type": "code",
   "execution_count": null,
   "metadata": {
    "id": "lpHkAXYwww3t"
   },
   "outputs": [],
   "source": [
    "df=pd.read_csv(, header=???, names=[?,?])\n",
    "df"
   ]
  },
  {
   "cell_type": "markdown",
   "metadata": {
    "id": "5Be5x7Xtww3y"
   },
   "source": [
    "## Plot Data\n",
    "\n",
    "### Hint\n",
    "\n",
    "ax.scatter(???, ???,marker='.',c='r',label='Entire Data')"
   ]
  },
  {
   "cell_type": "code",
   "execution_count": null,
   "metadata": {
    "id": "i5mnzeg_ww3z",
    "scrolled": true
   },
   "outputs": [],
   "source": [
    "fig, ax = plt.subplots() \n",
    "\n",
    "fig.set_figwidth(5)\n",
    "fig.set_figheight(5)\n",
    "# plot should be done on the `axis`: ax\n",
    "ax.scatter(??, ??,marker='.',c='r',label='Entire Data')\n",
    "# Set labels for axex and title for plot\n",
    "\n",
    "ax.set_xlabel('Population in 10,000s')\n",
    "ax.set_ylabel('Profit in $10,000s')\n",
    "ax.set_title('Population vs Profit Plot')\n",
    "ax.legend()\n",
    "plt.show()\n"
   ]
  },
  {
   "cell_type": "markdown",
   "metadata": {
    "id": "a-HOSKkpww4m"
   },
   "source": [
    "## Regression Model from SciKit-Learn (sklearn.linear_model.LinearRegression)\n",
    "\n",
    "Documentation: https://scikit-learn.org/stable/modules/generated/sklearn.linear_model.LinearRegression.html#sklearn-linear-model-linearregression\n",
    "\n",
    "In general, any model from SKLEARN library is implemented as follows\n",
    "\n",
    "### Step 1: Import the ML model from library\n",
    "\n",
    "from sklearn.model_category import model_name\n",
    "    \n",
    "### Step 2: Initiate the ML model\n",
    "\n",
    "model = model_name(?,?,...)     where ?.?,... are model hyperparameters\n",
    "\n",
    "### Step 3: Split the data into trainnig and testing data\n",
    "\n",
    "from sklearn.model_selection import train_test_split\n",
    "\n",
    "X_train, X_test, y_train, y_test = train_test_split(X,y, test_size= 0.25, random_state=10)\n",
    "\n",
    "In above case, test_size= 0.25 indicates 25% of test data is randomly selected from total data and random_state=10 indicates a fixed shuffled state, random_state=None creates random shuffling for every new run\n",
    "\n",
    "\n",
    "### Step 4: Fit the model to some data (Train the model)\n",
    "\n",
    "model.fit(X,y)\n",
    "\n",
    "### Step 5: Predict output for new/test data\n",
    "\n",
    "ynew = model.predict(Xnew)\n",
    "\n",
    "### Step 6: Check model performance scores\n",
    "\n",
    "performace_score = model.name_of_scoring_method(X1, y1)"
   ]
  },
  {
   "cell_type": "code",
   "execution_count": null,
   "metadata": {
    "id": "NJ7_2VNXww4o"
   },
   "outputs": [],
   "source": [
    "#Step 1: Import the ML model from library\n",
    "\n",
    "from ?? import ??\n",
    "\n",
    "#Step 2: Initiate the ML model\n",
    "\n",
    "reg_model = ??\n",
    "\n",
    "#Step 3: Split the data into trainnig and testing data\n",
    "\n",
    "X = df[['population']]\n",
    "y = df[['profit']]\n",
    "\n",
    "\n",
    "from sklearn.model_selection import train_test_split\n",
    "\n",
    "X_train, X_test, y_train, y_test = train_test_split(X,y, test_size= ??, random_state=??)\n",
    "\n",
    "#Step 4: Fit the model to some data (Train the model)\n",
    "\n",
    "reg_model.fit(??,??)\n",
    "\n",
    "#Step 5: Predict output for new/test data\n",
    "\n",
    "predict1=reg_model.predict([[??]])*10000\n",
    "predict2=reg_model.predict([[??]])*10000\n",
    "\n",
    "print('For population = 35,000, predicted profit from SKlearn is %10.1f$'%(predict1))\n",
    "print('For population = 70,000, predicted profit from SKlearn is %10.1f$'%(predict2))\n",
    "print()\n",
    "\n",
    "#Step 6: Check model performance scores\n",
    "\n",
    "score_train = reg_model.score(X_train, y_train)\n",
    "score_test = reg_model.score(X_test, y_test)\n",
    "\n",
    "print('R^2 score for training data = %10.4f'%(score_train))\n",
    "print('R^2 score for testing data  = %10.4f'%(score_test))\n",
    "print()\n",
    "\n",
    "# Inspecting model parameters\n",
    "\n",
    "theta0 = reg_model.??\n",
    "theta1 = reg_model.??\n",
    "\n",
    "print('Theta_0 = %10.4f'%(theta0))\n",
    "print('Theta_1 = %10.4f'%(theta1))"
   ]
  },
  {
   "cell_type": "markdown",
   "metadata": {
    "id": "ErObF9ZoI-qW"
   },
   "source": [
    "# Visualize Training and Testing Data"
   ]
  },
  {
   "cell_type": "code",
   "execution_count": null,
   "metadata": {
    "id": "rEAzDIpmI-qW",
    "scrolled": true
   },
   "outputs": [],
   "source": [
    "fig, ax = plt.subplots() \n",
    "\n",
    "fig.set_figwidth(5)\n",
    "fig.set_figheight(5)\n",
    "# plot should be done on the `axis`: ax\n",
    "ax.scatter(X_train, y_train,marker='.',c='r',label='Training Data')\n",
    "ax.scatter(X_test, y_test,marker='.',c='b',label='Testing Data')\n",
    "\n",
    "# plot regression model\n",
    "x1 = [5,22.5]\n",
    "y1 = [theta0+theta1*x1[0],theta0+theta1*x1[1]]\n",
    "ax.plot(x1, y1,marker='',c='g',label='Linear Regression Model')\n",
    "\n",
    "# Set labels for axex and title for plot\n",
    "\n",
    "ax.set_xlabel('Population in 10,000s')\n",
    "ax.set_ylabel('Profit in $10,000s')\n",
    "ax.set_title('Population vs Profit Plot')\n",
    "ax.legend()\n",
    "plt.show()\n"
   ]
  },
  {
   "cell_type": "markdown",
   "metadata": {
    "id": "K84yss_Eww33"
   },
   "source": [
    "\n",
    "\n",
    "# FOR REFERENCE \n",
    "\n",
    "# Python code for linear regression developed from classroom theory\n",
    "\n",
    "\n",
    "## Compute Cost and Gradient Descent"
   ]
  },
  {
   "cell_type": "code",
   "execution_count": null,
   "metadata": {
    "id": "LxbF--Faww34"
   },
   "outputs": [],
   "source": [
    "p=df.population.values\n",
    "m=len(p)\n",
    "X=np.array([np.ones(m),p]) #add first column to ones to X\n",
    "X=np.transpose(X)\n",
    "y=df.profit.values\n",
    "theta=np.zeros(2)"
   ]
  },
  {
   "cell_type": "code",
   "execution_count": null,
   "metadata": {
    "id": "NTYQv6LJww36"
   },
   "outputs": [],
   "source": [
    "def computeCost(X, y, theta):\n",
    "    # COMPUTECOST Compute cost for linear regression\n",
    "    #   J = COMPUTECOST(X, y, theta) computes the cost of using theta as the\n",
    "    #  parameter for linear regression to fit the data points in X and y\n",
    "\n",
    "    # Initialize some useful values\n",
    "    m = len(X) # number of training examples\n",
    "\n",
    "    # You need to return the following variables correctly \n",
    "    J = 0\n",
    "\n",
    "    # ====================== YOUR CODE HERE ======================\n",
    "    # Instructions: Compute the cost of a particular choice of theta\n",
    "    #               You should set J to the cost.\n",
    "\n",
    "    h = X @ theta\n",
    "    err = h-y\n",
    "    err_sqr = err**2\n",
    "    J=sum(err_sqr)/(2*m)\n",
    "    \n",
    "    return J"
   ]
  },
  {
   "cell_type": "code",
   "execution_count": null,
   "metadata": {
    "id": "pbliuiNGww39"
   },
   "outputs": [],
   "source": [
    "def gradientDescent(X, y, theta, alpha, num_iters):\n",
    "    #GRADIENTDESCENT Performs gradient descent to learn theta\n",
    "    #   theta = GRADIENTDESCENT(X, y, theta, alpha, num_iters) updates theta by \n",
    "    #   taking num_iters gradient steps with learning rate alpha\n",
    "    \n",
    "    # Initialize some useful values\n",
    "    m = len(y) # number of training examples\n",
    "    J_history = np.zeros(num_iters)\n",
    "    \n",
    "    for iter in range(num_iters):\n",
    "        # ====================== YOUR CODE HERE ======================\n",
    "        # Instructions: Perform a single gradient step on the parameter vector\n",
    "        #               theta. \n",
    "        #\n",
    "        # Hint: While debugging, it can be useful to print out the values\n",
    "        #       of the cost function (computeCost) and gradient here.\n",
    "        #\n",
    "        h = X @ theta\n",
    "        \n",
    "        myErr = h-y\n",
    "        myErr = np.transpose(np.array([myErr,myErr]))\n",
    "        \n",
    "        mySum = np.sum(X*myErr, axis=0)\n",
    "        \n",
    "        theta = theta - alpha*mySum/m\n",
    "        # ============================================================\n",
    "        # Save the cost J in every iteration    \n",
    "        J_history[iter]=computeCost(X, y, theta)\n",
    "\n",
    "        #print('#',iter,'theta',theta,'J',J_history[iter])\n",
    "    \n",
    "    return theta"
   ]
  },
  {
   "cell_type": "code",
   "execution_count": null,
   "metadata": {
    "id": "a6stdNMOww4A"
   },
   "outputs": [],
   "source": [
    "iterations = 5000\n",
    "alpha = 0.01\n",
    "theta = gradientDescent(X, y, theta, alpha, iterations)"
   ]
  },
  {
   "cell_type": "markdown",
   "metadata": {
    "id": "wJ8liWHpww4G"
   },
   "source": [
    "## Validate your code"
   ]
  },
  {
   "cell_type": "code",
   "execution_count": null,
   "metadata": {
    "id": "cF84lwftww4H"
   },
   "outputs": [],
   "source": [
    "print('With theta = [0,0], cost computed J = %10.2f'%computeCost(X,y,[0,0]), '(Expected cost = 32.07 approx.)')\n",
    "print('With theta = [-1,2], cost computed J = %10.2f'%computeCost(X,y,[-1,2]), '(Expected cost = 54.24 approx.)')\n",
    "print('Theta found by gradient descent= %10.4f , %10.4f'%(theta[0],theta[1]),'(Expected values: -3.8953, 1.1930)')"
   ]
  },
  {
   "cell_type": "markdown",
   "metadata": {
    "id": "AWv-jFJMww4M"
   },
   "source": [
    "## Plot Training data and Regression model"
   ]
  },
  {
   "cell_type": "code",
   "execution_count": null,
   "metadata": {
    "id": "_IkbOpjcww4N"
   },
   "outputs": [],
   "source": [
    "fig, ax = plt.subplots() \n",
    "\n",
    "fig.set_figwidth(5)\n",
    "fig.set_figheight(5)\n",
    "# plot should be done on the `axis`: ax\n",
    "ax.scatter(df.population, df.profit,marker='.',c='r',label='Entire Data')\n",
    "# Set labels for axex and title for plot\n",
    "\n",
    "\n",
    "y_predicted=np.dot(X,np.transpose(theta))\n",
    "ax.plot(df.population.values,y_predicted,c='b',label='Linear Regression')\n",
    "\n",
    "ax.set_xlabel('Population in 10,000s')\n",
    "ax.set_ylabel('Profit in $10,000s')\n",
    "ax.set_title('Population vs Profit Plot')\n",
    "ax.legend()\n",
    "plt.show()"
   ]
  },
  {
   "cell_type": "markdown",
   "metadata": {
    "id": "57wS0jDbww4R"
   },
   "source": [
    "## Predict values for population of 35,000 and 70,000"
   ]
  },
  {
   "cell_type": "code",
   "execution_count": null,
   "metadata": {
    "id": "8OGGuSjdww4S"
   },
   "outputs": [],
   "source": [
    "predict1=np.dot([1, 3.5],np.transpose(theta))*10000\n",
    "print('For population = 35,000, we predict a profit of %10.1f$'%predict1)\n",
    "predict2=np.dot([1, 7],np.transpose(theta))*10000\n",
    "print('For population = 70,000, we predict a profit of %10.1f$'%predict2)"
   ]
  },
  {
   "cell_type": "markdown",
   "metadata": {
    "id": "CIqRWevhww4Y"
   },
   "source": [
    "## Visualizing J(theta_0, theta_1)"
   ]
  },
  {
   "cell_type": "code",
   "execution_count": null,
   "metadata": {
    "id": "-VfnoDIrww4Z"
   },
   "outputs": [],
   "source": [
    "theta0_vals = np.linspace(-10, 10, 100)\n",
    "theta1_vals = np.linspace(-1, 4, 100)\n",
    "\n",
    "J_vals = np.zeros([len(theta0_vals), len(theta1_vals)])\n",
    "for i in range(len(theta0_vals)):\n",
    "    for j in range(len(theta1_vals)):\n",
    "        t=[theta0_vals[i],theta1_vals[j]]\n",
    "        J_vals[i,j]=computeCost(X,y,t)\n",
    "\n",
    "J_vals=np.transpose(J_vals)\n",
    "\n",
    "theta0_vals, theta1_vals = np.meshgrid(theta0_vals, theta1_vals)\n"
   ]
  },
  {
   "cell_type": "code",
   "execution_count": null,
   "metadata": {
    "id": "h16D_8faww4d"
   },
   "outputs": [],
   "source": [
    "fig1 = plt.figure()\n",
    "\n",
    "ax1 = fig1.add_subplot(111, projection='3d')\n",
    "\n",
    "ax1.set_xlabel(r'$\\theta_0$')\n",
    "ax1.set_ylabel(r'$\\theta_1$')\n",
    "ax1.set_zlabel('J - Cost function')\n",
    "\n",
    "ax1.plot_surface(theta0_vals, theta1_vals, J_vals,cmap=cm.coolwarm, linewidth=0, antialiased=False)\n",
    "plt.show()"
   ]
  },
  {
   "cell_type": "code",
   "execution_count": null,
   "metadata": {
    "id": "VkWJFxWeww4h"
   },
   "outputs": [],
   "source": [
    "# Plot J_vals as 15 contours spaced logarithmically between 0.01 and 100\n",
    "fig2, ax2 = plt.subplots(1, 1)\n",
    "\n",
    "ax2.contour(theta0_vals, theta1_vals, J_vals, np.logspace(-2, 3, 20))\n",
    "ax2.xaxis.set_label_text(r'$\\theta_0$')\n",
    "ax2.yaxis.set_label_text(r'$\\theta_1$')\n",
    "\n",
    "ax2.plot(theta[0], theta[1], 'rx')\n",
    "plt.show()"
   ]
  },
  {
   "cell_type": "code",
   "execution_count": null,
   "metadata": {
    "id": "ArPK5PImww4u"
   },
   "outputs": [],
   "source": []
  }
 ],
 "metadata": {
  "colab": {
   "collapsed_sections": [],
   "provenance": [],
   "toc_visible": true
  },
  "kernelspec": {
   "display_name": "Python 3",
   "language": "python",
   "name": "python3"
  },
  "language_info": {
   "codemirror_mode": {
    "name": "ipython",
    "version": 3
   },
   "file_extension": ".py",
   "mimetype": "text/x-python",
   "name": "python",
   "nbconvert_exporter": "python",
   "pygments_lexer": "ipython3",
   "version": "3.8.5"
  }
 },
 "nbformat": 4,
 "nbformat_minor": 1
}
